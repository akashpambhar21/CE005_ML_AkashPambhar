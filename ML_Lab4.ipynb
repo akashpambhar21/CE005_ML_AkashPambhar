{
  "nbformat": 4,
  "nbformat_minor": 0,
  "metadata": {
    "colab": {
      "provenance": [],
      "authorship_tag": "ABX9TyPSm+uV4o6hKWSyjywZRXnP",
      "include_colab_link": true
    },
    "kernelspec": {
      "name": "python3",
      "display_name": "Python 3"
    },
    "language_info": {
      "name": "python"
    }
  },
  "cells": [
    {
      "cell_type": "markdown",
      "metadata": {
        "id": "view-in-github",
        "colab_type": "text"
      },
      "source": [
        "<a href=\"https://colab.research.google.com/github/akashpambhar21/CE005_ML_AkashPambhar/blob/main/ML_Lab4.ipynb\" target=\"_parent\"><img src=\"https://colab.research.google.com/assets/colab-badge.svg\" alt=\"Open In Colab\"/></a>"
      ]
    },
    {
      "cell_type": "code",
      "execution_count": 1,
      "metadata": {
        "id": "WOvMX9nGWzrH"
      },
      "outputs": [],
      "source": [
        "import numpy as np\n",
        "import torch\n",
        "inputs = np.array([[73, 67, 43], \n",
        "                   [91, 88, 64], \n",
        "                   [87, 134, 58], \n",
        "                   [102, 43, 37], \n",
        "                   [69, 96, 70]], dtype='float32')"
      ]
    },
    {
      "cell_type": "code",
      "source": [
        "targets = np.array([[56], \n",
        "                    [81], \n",
        "                    [119], \n",
        "                    [22], \n",
        "                    [103]], dtype='float32')"
      ],
      "metadata": {
        "id": "hGSaIx9DYdtK"
      },
      "execution_count": 2,
      "outputs": []
    },
    {
      "cell_type": "code",
      "source": [
        "inputs = torch.from_numpy(inputs)\n",
        "targets = torch.from_numpy(targets)\n",
        "print(inputs)\n",
        "print(targets)"
      ],
      "metadata": {
        "id": "know6skhYf-J",
        "colab": {
          "base_uri": "https://localhost:8080/"
        },
        "outputId": "bbd27fff-3acd-4657-b06d-63da4aab3b40"
      },
      "execution_count": 3,
      "outputs": [
        {
          "output_type": "stream",
          "name": "stdout",
          "text": [
            "tensor([[ 73.,  67.,  43.],\n",
            "        [ 91.,  88.,  64.],\n",
            "        [ 87., 134.,  58.],\n",
            "        [102.,  43.,  37.],\n",
            "        [ 69.,  96.,  70.]])\n",
            "tensor([[ 56.],\n",
            "        [ 81.],\n",
            "        [119.],\n",
            "        [ 22.],\n",
            "        [103.]])\n"
          ]
        }
      ]
    },
    {
      "cell_type": "code",
      "source": [
        "w = torch.randn(3, 1, requires_grad=True)\n",
        "b = torch.randn(1, requires_grad=True)\n",
        "print(w)\n",
        "print(b)"
      ],
      "metadata": {
        "colab": {
          "base_uri": "https://localhost:8080/"
        },
        "id": "bjxZfmHwYizJ",
        "outputId": "06bee309-4274-40f3-915a-4eafe8887704"
      },
      "execution_count": 4,
      "outputs": [
        {
          "output_type": "stream",
          "name": "stdout",
          "text": [
            "tensor([[1.2335],\n",
            "        [0.0894],\n",
            "        [1.3316]], requires_grad=True)\n",
            "tensor([-1.0852], requires_grad=True)\n"
          ]
        }
      ]
    },
    {
      "cell_type": "code",
      "source": [
        "def model(x):\n",
        "    return x @ w + b"
      ],
      "metadata": {
        "id": "XPGkwgP5Yju5"
      },
      "execution_count": 5,
      "outputs": []
    },
    {
      "cell_type": "code",
      "source": [
        "preds = model(inputs)\n",
        "print(preds)"
      ],
      "metadata": {
        "id": "1SvYc4TwZ8px",
        "colab": {
          "base_uri": "https://localhost:8080/"
        },
        "outputId": "6d2ee3a0-1109-49d1-b1f7-09656ce5fb8d"
      },
      "execution_count": 6,
      "outputs": [
        {
          "output_type": "stream",
          "name": "stdout",
          "text": [
            "tensor([[152.2122],\n",
            "        [204.2567],\n",
            "        [195.4469],\n",
            "        [177.8494],\n",
            "        [185.8234]], grad_fn=<AddBackward0>)\n"
          ]
        }
      ]
    },
    {
      "cell_type": "code",
      "source": [
        "print(targets)"
      ],
      "metadata": {
        "colab": {
          "base_uri": "https://localhost:8080/"
        },
        "id": "sz4MgGmbaBJx",
        "outputId": "fc81a8b9-c94a-4245-e950-a219f7086c73"
      },
      "execution_count": 7,
      "outputs": [
        {
          "output_type": "stream",
          "name": "stdout",
          "text": [
            "tensor([[ 56.],\n",
            "        [ 81.],\n",
            "        [119.],\n",
            "        [ 22.],\n",
            "        [103.]])\n"
          ]
        }
      ]
    },
    {
      "cell_type": "code",
      "source": [
        "def mse(t1, t2):\n",
        "    diff = t1 - t2\n",
        "    return torch.sum(diff * diff) / diff.numel()"
      ],
      "metadata": {
        "id": "FXTcMXMLaHPq"
      },
      "execution_count": 8,
      "outputs": []
    },
    {
      "cell_type": "code",
      "source": [
        "loss = mse(preds, targets)\n",
        "print(loss)"
      ],
      "metadata": {
        "colab": {
          "base_uri": "https://localhost:8080/"
        },
        "id": "p3UR0LdqbA4T",
        "outputId": "216ace3a-745e-404b-ea67-2393b502e249"
      },
      "execution_count": 9,
      "outputs": [
        {
          "output_type": "stream",
          "name": "stdout",
          "text": [
            "tensor(12288.3760, grad_fn=<DivBackward0>)\n"
          ]
        }
      ]
    },
    {
      "cell_type": "code",
      "source": [
        "loss.backward()"
      ],
      "metadata": {
        "id": "S-YpH-OybDJK"
      },
      "execution_count": 10,
      "outputs": []
    },
    {
      "cell_type": "code",
      "source": [
        "print(w)\n",
        "print(w.grad)"
      ],
      "metadata": {
        "colab": {
          "base_uri": "https://localhost:8080/"
        },
        "id": "mr7nFeprbFRd",
        "outputId": "90fd715c-385f-4281-f827-1cecf0d5b686"
      },
      "execution_count": 11,
      "outputs": [
        {
          "output_type": "stream",
          "name": "stdout",
          "text": [
            "tensor([[1.2335],\n",
            "        [0.0894],\n",
            "        [1.3316]], requires_grad=True)\n",
            "tensor([[18600.8730],\n",
            "        [16875.7051],\n",
            "        [11209.4160]])\n"
          ]
        }
      ]
    },
    {
      "cell_type": "code",
      "source": [
        "preds = model(inputs)\n",
        "print(preds)"
      ],
      "metadata": {
        "colab": {
          "base_uri": "https://localhost:8080/"
        },
        "id": "uN8xgHkgbHjo",
        "outputId": "8d7a5423-b4bf-4640-d879-a5ec7de4cf11"
      },
      "execution_count": 12,
      "outputs": [
        {
          "output_type": "stream",
          "name": "stdout",
          "text": [
            "tensor([[152.2122],\n",
            "        [204.2567],\n",
            "        [195.4469],\n",
            "        [177.8494],\n",
            "        [185.8234]], grad_fn=<AddBackward0>)\n"
          ]
        }
      ]
    },
    {
      "cell_type": "code",
      "source": [
        "loss = mse(preds, targets)\n",
        "print(loss)"
      ],
      "metadata": {
        "colab": {
          "base_uri": "https://localhost:8080/"
        },
        "id": "9L_3dufVbIol",
        "outputId": "ea6d408a-a082-4a98-ee74-ead83a77c1c5"
      },
      "execution_count": 13,
      "outputs": [
        {
          "output_type": "stream",
          "name": "stdout",
          "text": [
            "tensor(12288.3760, grad_fn=<DivBackward0>)\n"
          ]
        }
      ]
    },
    {
      "cell_type": "code",
      "source": [
        "loss.backward(retain_graph=True)\n",
        "print(w.grad)\n",
        "print(b.grad)"
      ],
      "metadata": {
        "colab": {
          "base_uri": "https://localhost:8080/"
        },
        "id": "RLr9y5VbbIlP",
        "outputId": "4b8ef739-323f-4810-e06d-e3572095783b"
      },
      "execution_count": 14,
      "outputs": [
        {
          "output_type": "stream",
          "name": "stdout",
          "text": [
            "tensor([[37201.7461],\n",
            "        [33751.4102],\n",
            "        [22418.8320]])\n",
            "tensor([427.6709])\n"
          ]
        }
      ]
    },
    {
      "cell_type": "code",
      "source": [
        "with torch.no_grad():\n",
        "    w -= w.grad * 1e-5\n",
        "    b -= b.grad * 1e-5\n",
        "    w.grad.zero_()\n",
        "    b.grad.zero_()"
      ],
      "metadata": {
        "id": "JloD75gKbIjn"
      },
      "execution_count": 15,
      "outputs": []
    },
    {
      "cell_type": "code",
      "source": [
        "print(w)\n",
        "print(b)"
      ],
      "metadata": {
        "colab": {
          "base_uri": "https://localhost:8080/"
        },
        "id": "YJdyceQ8bId5",
        "outputId": "db12e375-907e-4193-a579-843c5da38edb"
      },
      "execution_count": 17,
      "outputs": [
        {
          "output_type": "stream",
          "name": "stdout",
          "text": [
            "tensor([[ 0.8615],\n",
            "        [-0.2481],\n",
            "        [ 1.1074]], requires_grad=True)\n",
            "tensor([-1.0894], requires_grad=True)\n"
          ]
        }
      ]
    },
    {
      "cell_type": "code",
      "source": [
        "preds = model(inputs)\n",
        "loss = mse(preds, targets)\n",
        "print(loss)"
      ],
      "metadata": {
        "colab": {
          "base_uri": "https://localhost:8080/"
        },
        "id": "VisQzFQTbIL8",
        "outputId": "7a9579b6-c32f-4291-affa-101f4e65d1bc"
      },
      "execution_count": 18,
      "outputs": [
        {
          "output_type": "stream",
          "name": "stdout",
          "text": [
            "tensor(2547.0520, grad_fn=<DivBackward0>)\n"
          ]
        }
      ]
    },
    {
      "cell_type": "code",
      "source": [
        "for i in range(100):\n",
        "    preds = model(inputs)\n",
        "    loss = mse(preds, targets)\n",
        "    loss.backward()\n",
        "    print(loss);\n",
        "    with torch.no_grad():\n",
        "        w -= w.grad * 1e-5\n",
        "        b -= b.grad * 1e-5\n",
        "        w.grad.zero_()\n",
        "        b.grad.zero_()"
      ],
      "metadata": {
        "colab": {
          "base_uri": "https://localhost:8080/"
        },
        "id": "hM1mmAWhbfAd",
        "outputId": "274b6290-6aeb-40e3-8951-047443a59d99"
      },
      "execution_count": 19,
      "outputs": [
        {
          "output_type": "stream",
          "name": "stdout",
          "text": [
            "tensor(2547.0520, grad_fn=<DivBackward0>)\n",
            "tensor(2008.1266, grad_fn=<DivBackward0>)\n",
            "tensor(1762.2906, grad_fn=<DivBackward0>)\n",
            "tensor(1637.7834, grad_fn=<DivBackward0>)\n",
            "tensor(1563.8386, grad_fn=<DivBackward0>)\n",
            "tensor(1511.2906, grad_fn=<DivBackward0>)\n",
            "tensor(1468.1111, grad_fn=<DivBackward0>)\n",
            "tensor(1429.3323, grad_fn=<DivBackward0>)\n",
            "tensor(1392.8932, grad_fn=<DivBackward0>)\n",
            "tensor(1357.9325, grad_fn=<DivBackward0>)\n",
            "tensor(1324.0815, grad_fn=<DivBackward0>)\n",
            "tensor(1291.1765, grad_fn=<DivBackward0>)\n",
            "tensor(1259.1376, grad_fn=<DivBackward0>)\n",
            "tensor(1227.9196, grad_fn=<DivBackward0>)\n",
            "tensor(1197.4924, grad_fn=<DivBackward0>)\n",
            "tensor(1167.8323, grad_fn=<DivBackward0>)\n",
            "tensor(1138.9182, grad_fn=<DivBackward0>)\n",
            "tensor(1110.7305, grad_fn=<DivBackward0>)\n",
            "tensor(1083.2512, grad_fn=<DivBackward0>)\n",
            "tensor(1056.4620, grad_fn=<DivBackward0>)\n",
            "tensor(1030.3455, grad_fn=<DivBackward0>)\n",
            "tensor(1004.8849, grad_fn=<DivBackward0>)\n",
            "tensor(980.0635, grad_fn=<DivBackward0>)\n",
            "tensor(955.8652, grad_fn=<DivBackward0>)\n",
            "tensor(932.2744, grad_fn=<DivBackward0>)\n",
            "tensor(909.2764, grad_fn=<DivBackward0>)\n",
            "tensor(886.8548, grad_fn=<DivBackward0>)\n",
            "tensor(864.9966, grad_fn=<DivBackward0>)\n",
            "tensor(843.6871, grad_fn=<DivBackward0>)\n",
            "tensor(822.9119, grad_fn=<DivBackward0>)\n",
            "tensor(802.6585, grad_fn=<DivBackward0>)\n",
            "tensor(782.9131, grad_fn=<DivBackward0>)\n",
            "tensor(763.6631, grad_fn=<DivBackward0>)\n",
            "tensor(744.8964, grad_fn=<DivBackward0>)\n",
            "tensor(726.6003, grad_fn=<DivBackward0>)\n",
            "tensor(708.7631, grad_fn=<DivBackward0>)\n",
            "tensor(691.3737, grad_fn=<DivBackward0>)\n",
            "tensor(674.4200, grad_fn=<DivBackward0>)\n",
            "tensor(657.8920, grad_fn=<DivBackward0>)\n",
            "tensor(641.7783, grad_fn=<DivBackward0>)\n",
            "tensor(626.0685, grad_fn=<DivBackward0>)\n",
            "tensor(610.7527, grad_fn=<DivBackward0>)\n",
            "tensor(595.8212, grad_fn=<DivBackward0>)\n",
            "tensor(581.2637, grad_fn=<DivBackward0>)\n",
            "tensor(567.0712, grad_fn=<DivBackward0>)\n",
            "tensor(553.2345, grad_fn=<DivBackward0>)\n",
            "tensor(539.7445, grad_fn=<DivBackward0>)\n",
            "tensor(526.5926, grad_fn=<DivBackward0>)\n",
            "tensor(513.7703, grad_fn=<DivBackward0>)\n",
            "tensor(501.2692, grad_fn=<DivBackward0>)\n",
            "tensor(489.0814, grad_fn=<DivBackward0>)\n",
            "tensor(477.1986, grad_fn=<DivBackward0>)\n",
            "tensor(465.6138, grad_fn=<DivBackward0>)\n",
            "tensor(454.3190, grad_fn=<DivBackward0>)\n",
            "tensor(443.3071, grad_fn=<DivBackward0>)\n",
            "tensor(432.5710, grad_fn=<DivBackward0>)\n",
            "tensor(422.1035, grad_fn=<DivBackward0>)\n",
            "tensor(411.8980, grad_fn=<DivBackward0>)\n",
            "tensor(401.9482, grad_fn=<DivBackward0>)\n",
            "tensor(392.2472, grad_fn=<DivBackward0>)\n",
            "tensor(382.7890, grad_fn=<DivBackward0>)\n",
            "tensor(373.5674, grad_fn=<DivBackward0>)\n",
            "tensor(364.5765, grad_fn=<DivBackward0>)\n",
            "tensor(355.8105, grad_fn=<DivBackward0>)\n",
            "tensor(347.2639, grad_fn=<DivBackward0>)\n",
            "tensor(338.9310, grad_fn=<DivBackward0>)\n",
            "tensor(330.8062, grad_fn=<DivBackward0>)\n",
            "tensor(322.8847, grad_fn=<DivBackward0>)\n",
            "tensor(315.1611, grad_fn=<DivBackward0>)\n",
            "tensor(307.6306, grad_fn=<DivBackward0>)\n",
            "tensor(300.2882, grad_fn=<DivBackward0>)\n",
            "tensor(293.1292, grad_fn=<DivBackward0>)\n",
            "tensor(286.1491, grad_fn=<DivBackward0>)\n",
            "tensor(279.3433, grad_fn=<DivBackward0>)\n",
            "tensor(272.7074, grad_fn=<DivBackward0>)\n",
            "tensor(266.2372, grad_fn=<DivBackward0>)\n",
            "tensor(259.9286, grad_fn=<DivBackward0>)\n",
            "tensor(253.7773, grad_fn=<DivBackward0>)\n",
            "tensor(247.7796, grad_fn=<DivBackward0>)\n",
            "tensor(241.9314, grad_fn=<DivBackward0>)\n",
            "tensor(236.2291, grad_fn=<DivBackward0>)\n",
            "tensor(230.6690, grad_fn=<DivBackward0>)\n",
            "tensor(225.2476, grad_fn=<DivBackward0>)\n",
            "tensor(219.9612, grad_fn=<DivBackward0>)\n",
            "tensor(214.8067, grad_fn=<DivBackward0>)\n",
            "tensor(209.7805, grad_fn=<DivBackward0>)\n",
            "tensor(204.8796, grad_fn=<DivBackward0>)\n",
            "tensor(200.1007, grad_fn=<DivBackward0>)\n",
            "tensor(195.4407, grad_fn=<DivBackward0>)\n",
            "tensor(190.8969, grad_fn=<DivBackward0>)\n",
            "tensor(186.4660, grad_fn=<DivBackward0>)\n",
            "tensor(182.1454, grad_fn=<DivBackward0>)\n",
            "tensor(177.9323, grad_fn=<DivBackward0>)\n",
            "tensor(173.8239, grad_fn=<DivBackward0>)\n",
            "tensor(169.8176, grad_fn=<DivBackward0>)\n",
            "tensor(165.9110, grad_fn=<DivBackward0>)\n",
            "tensor(162.1014, grad_fn=<DivBackward0>)\n",
            "tensor(158.3864, grad_fn=<DivBackward0>)\n",
            "tensor(154.7637, grad_fn=<DivBackward0>)\n",
            "tensor(151.2309, grad_fn=<DivBackward0>)\n"
          ]
        }
      ]
    },
    {
      "cell_type": "code",
      "source": [
        "preds = model(inputs)\n",
        "loss = mse(preds, targets)\n",
        "print(loss)"
      ],
      "metadata": {
        "colab": {
          "base_uri": "https://localhost:8080/"
        },
        "id": "Acrene5ybish",
        "outputId": "86af99e9-fd7a-4a9b-8eca-ee15bf1a5928"
      },
      "execution_count": 20,
      "outputs": [
        {
          "output_type": "stream",
          "name": "stdout",
          "text": [
            "tensor(147.7858, grad_fn=<DivBackward0>)\n"
          ]
        }
      ]
    },
    {
      "cell_type": "code",
      "source": [
        "preds"
      ],
      "metadata": {
        "colab": {
          "base_uri": "https://localhost:8080/"
        },
        "id": "c4XlFpnvblrQ",
        "outputId": "0d7c81c7-cdf3-42bd-bf44-db316879a3e6"
      },
      "execution_count": 21,
      "outputs": [
        {
          "output_type": "execute_result",
          "data": {
            "text/plain": [
              "tensor([[ 60.2321],\n",
              "        [ 87.8925],\n",
              "        [100.8281],\n",
              "        [ 40.3387],\n",
              "        [100.3572]], grad_fn=<AddBackward0>)"
            ]
          },
          "metadata": {},
          "execution_count": 21
        }
      ]
    },
    {
      "cell_type": "code",
      "source": [
        "targets\n"
      ],
      "metadata": {
        "colab": {
          "base_uri": "https://localhost:8080/"
        },
        "id": "CtEryalHbrQf",
        "outputId": "f10030a5-7126-4410-a302-795f45e0fcde"
      },
      "execution_count": 22,
      "outputs": [
        {
          "output_type": "execute_result",
          "data": {
            "text/plain": [
              "tensor([[ 56.],\n",
              "        [ 81.],\n",
              "        [119.],\n",
              "        [ 22.],\n",
              "        [103.]])"
            ]
          },
          "metadata": {},
          "execution_count": 22
        }
      ]
    }
  ]
}