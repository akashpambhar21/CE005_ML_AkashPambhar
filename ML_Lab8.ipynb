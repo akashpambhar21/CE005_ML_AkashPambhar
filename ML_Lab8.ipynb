{
  "nbformat": 4,
  "nbformat_minor": 0,
  "metadata": {
    "colab": {
      "provenance": [],
      "mount_file_id": "1mTwUb0MtkoRHMAvvm0WlaIUr-65uCFCQ",
      "authorship_tag": "ABX9TyNuXoIXhNk/QDkGUMC2vJo6",
      "include_colab_link": true
    },
    "kernelspec": {
      "name": "python3",
      "display_name": "Python 3"
    },
    "language_info": {
      "name": "python"
    }
  },
  "cells": [
    {
      "cell_type": "markdown",
      "metadata": {
        "id": "view-in-github",
        "colab_type": "text"
      },
      "source": [
        "<a href=\"https://colab.research.google.com/github/akashpambhar21/CE005_ML_AkashPambhar/blob/main/ML_Lab8.ipynb\" target=\"_parent\"><img src=\"https://colab.research.google.com/assets/colab-badge.svg\" alt=\"Open In Colab\"/></a>"
      ]
    },
    {
      "cell_type": "code",
      "execution_count": null,
      "metadata": {
        "colab": {
          "base_uri": "https://localhost:8080/"
        },
        "id": "H6Nf7nLVWXCq",
        "outputId": "f9beda0f-65b1-429c-beaa-67a9f42e21a6"
      },
      "outputs": [
        {
          "output_type": "stream",
          "name": "stdout",
          "text": [
            "Looking in indexes: https://pypi.org/simple, https://us-python.pkg.dev/colab-wheels/public/simple/\n",
            "Requirement already satisfied: opendatasets in /usr/local/lib/python3.8/dist-packages (0.1.22)\n",
            "Requirement already satisfied: tqdm in /usr/local/lib/python3.8/dist-packages (from opendatasets) (4.64.1)\n",
            "Requirement already satisfied: click in /usr/local/lib/python3.8/dist-packages (from opendatasets) (7.1.2)\n",
            "Requirement already satisfied: kaggle in /usr/local/lib/python3.8/dist-packages (from opendatasets) (1.5.12)\n",
            "Requirement already satisfied: python-dateutil in /usr/local/lib/python3.8/dist-packages (from kaggle->opendatasets) (2.8.2)\n",
            "Requirement already satisfied: urllib3 in /usr/local/lib/python3.8/dist-packages (from kaggle->opendatasets) (1.24.3)\n",
            "Requirement already satisfied: requests in /usr/local/lib/python3.8/dist-packages (from kaggle->opendatasets) (2.25.1)\n",
            "Requirement already satisfied: certifi in /usr/local/lib/python3.8/dist-packages (from kaggle->opendatasets) (2022.12.7)\n",
            "Requirement already satisfied: six>=1.10 in /usr/local/lib/python3.8/dist-packages (from kaggle->opendatasets) (1.15.0)\n",
            "Requirement already satisfied: python-slugify in /usr/local/lib/python3.8/dist-packages (from kaggle->opendatasets) (8.0.0)\n",
            "Requirement already satisfied: text-unidecode>=1.3 in /usr/local/lib/python3.8/dist-packages (from python-slugify->kaggle->opendatasets) (1.3)\n",
            "Requirement already satisfied: chardet<5,>=3.0.2 in /usr/local/lib/python3.8/dist-packages (from requests->kaggle->opendatasets) (4.0.0)\n",
            "Requirement already satisfied: idna<3,>=2.5 in /usr/local/lib/python3.8/dist-packages (from requests->kaggle->opendatasets) (2.10)\n"
          ]
        }
      ],
      "source": [
        "!pip install opendatasets \n",
        "import opendatasets as op\n",
        "!pip install -q kaggle\n",
        "import io\n",
        "import numpy as np"
      ]
    },
    {
      "cell_type": "code",
      "source": [
        "from sklearn import datasets\n",
        "data = datasets.load_breast_cancer()\n",
        "print(data.keys())\n"
      ],
      "metadata": {
        "colab": {
          "base_uri": "https://localhost:8080/"
        },
        "id": "rhoTw9W4WmEx",
        "outputId": "a6252c2f-4d55-42b7-eb19-5efb3fabd590"
      },
      "execution_count": null,
      "outputs": [
        {
          "output_type": "stream",
          "name": "stdout",
          "text": [
            "dict_keys(['data', 'target', 'frame', 'target_names', 'DESCR', 'feature_names', 'filename', 'data_module'])\n"
          ]
        }
      ]
    },
    {
      "cell_type": "code",
      "source": [
        "import sklearn.tree as tree\n",
        "from sklearn.tree import DecisionTreeClassifier\n",
        "from sklearn.model_selection import train_test_split\n",
        "\n",
        "# model1 = tree.DecisionTreeClassifier(random_state=1)\n",
        "x=data.data\n",
        "y=data.target\n",
        "x_train, x_test, y_train, y_test = train_test_split(x, y,test_size=0.3)\n",
        "# test_pred1 ,train_pred1=Stacking(model=model1,n_fold=10, train=x_train,test=x_test,y=y_train)\n",
        "# model1.fit(x_train,y_train)\n",
        "# y_pred1=model1.predict(x_test)\n",
        "# print(y_pred1)\n",
        "# train_pred1=pd.DataFrame(train_pred1)\n",
        "# test_pred1=pd.DataFrame(test_pred1)"
      ],
      "metadata": {
        "id": "g7CU9ALuWptR"
      },
      "execution_count": 7,
      "outputs": []
    },
    {
      "cell_type": "markdown",
      "source": [],
      "metadata": {
        "id": "YoxHyvkqYiXr"
      }
    },
    {
      "cell_type": "code",
      "source": [
        "from sklearn.neighbors import KNeighborsClassifier\n",
        "from sklearn.ensemble import RandomForestClassifier\n",
        "from sklearn.linear_model import LogisticRegression\n",
        "from sklearn.tree import DecisionTreeClassifier\n",
        "from sklearn.model_selection import cross_val_score\n",
        "\n",
        "dtc =  DecisionTreeClassifier()\n",
        "rfc = RandomForestClassifier()\n",
        "knn =  KNeighborsClassifier()\n",
        "clf = [('dtc',dtc),('rfc',rfc),('knn',knn)]\n"
      ],
      "metadata": {
        "id": "Lf39hG8eYRDh"
      },
      "execution_count": 8,
      "outputs": []
    },
    {
      "cell_type": "code",
      "source": [
        "from sklearn.ensemble import StackingClassifier\n",
        "lr = LogisticRegression()\n",
        "stack_model = StackingClassifier( estimators = clf,final_estimator = lr)\n",
        "score = cross_val_score(stack_model,x,y,cv = 5,scoring = 'accuracy')\n",
        "print(\"The accuracy score of is:\",score.mean())"
      ],
      "metadata": {
        "colab": {
          "base_uri": "https://localhost:8080/"
        },
        "id": "M1UxAdITZCDp",
        "outputId": "ae470ea5-dcc9-40d5-9afd-1ee7a6e87c9c"
      },
      "execution_count": 9,
      "outputs": [
        {
          "output_type": "stream",
          "name": "stdout",
          "text": [
            "The accuracy score of is: 0.9543238627542306\n"
          ]
        }
      ]
    },
    {
      "cell_type": "code",
      "source": [
        "import pandas as pd\n",
        "model1 = tree.DecisionTreeClassifier()\n",
        "model1.fit(x_train, y_train)\n",
        "val_pred1=model1.predict(x_train)\n",
        "test_pred1=model1.predict(x_test)\n",
        "val_pred1=pd.DataFrame(val_pred1)\n",
        "test_pred1=pd.DataFrame(test_pred1)\n",
        "\n",
        "model2 = LogisticRegression( max_iter=100)\n",
        "model2.fit(x_train,y_train)\n",
        "val_pred2=model2.predict(x_train)\n",
        "test_pred2=model2.predict(x_test)\n",
        "val_pred2=pd.DataFrame(val_pred2)\n",
        "test_pred2=pd.DataFrame(test_pred2)"
      ],
      "metadata": {
        "colab": {
          "base_uri": "https://localhost:8080/"
        },
        "id": "ohHAlR9VZCu7",
        "outputId": "a5cc0a87-9a5e-4801-bde0-bb5adf3a2ac6"
      },
      "execution_count": 10,
      "outputs": [
        {
          "output_type": "stream",
          "name": "stderr",
          "text": [
            "/usr/local/lib/python3.8/dist-packages/sklearn/linear_model/_logistic.py:814: ConvergenceWarning: lbfgs failed to converge (status=1):\n",
            "STOP: TOTAL NO. of ITERATIONS REACHED LIMIT.\n",
            "\n",
            "Increase the number of iterations (max_iter) or scale the data as shown in:\n",
            "    https://scikit-learn.org/stable/modules/preprocessing.html\n",
            "Please also refer to the documentation for alternative solver options:\n",
            "    https://scikit-learn.org/stable/modules/linear_model.html#logistic-regression\n",
            "  n_iter_i = _check_optimize_result(\n"
          ]
        }
      ]
    },
    {
      "cell_type": "code",
      "source": [
        "from sklearn.ensemble import BaggingClassifier\n",
        "model = BaggingClassifier(tree.DecisionTreeClassifier(random_state=1))\n",
        "model.fit(x_train, y_train)\n",
        "model.score(x_test,y_test)"
      ],
      "metadata": {
        "colab": {
          "base_uri": "https://localhost:8080/"
        },
        "id": "7WTxXRrmZFOq",
        "outputId": "88b4a888-6862-4413-cc11-2f20d6c82827"
      },
      "execution_count": 11,
      "outputs": [
        {
          "output_type": "execute_result",
          "data": {
            "text/plain": [
              "0.9415204678362573"
            ]
          },
          "metadata": {},
          "execution_count": 11
        }
      ]
    },
    {
      "cell_type": "code",
      "source": [
        "from sklearn.ensemble import AdaBoostClassifier\n",
        "model = AdaBoostClassifier(random_state=1)\n",
        "model.fit(x_train, y_train)\n",
        "model.score(x_test,y_test)"
      ],
      "metadata": {
        "colab": {
          "base_uri": "https://localhost:8080/"
        },
        "id": "Ejo77U8uZbSZ",
        "outputId": "e63de212-a402-4295-c1c3-a108079afaf7"
      },
      "execution_count": 12,
      "outputs": [
        {
          "output_type": "execute_result",
          "data": {
            "text/plain": [
              "0.935672514619883"
            ]
          },
          "metadata": {},
          "execution_count": 12
        }
      ]
    },
    {
      "cell_type": "code",
      "source": [
        "import pandas as pd\n",
        "from google.colab import drive\n",
        "drive.mount(\"/content/drive\")\n",
        "data1 = pd.read_csv('/content/drive/MyDrive/Colab Notebooks/Contrete.csv')\n",
        "print(\"\\nData :\\n\",data1)\n"
      ],
      "metadata": {
        "id": "U9hC6zjeZhAP"
      },
      "execution_count": null,
      "outputs": []
    },
    {
      "cell_type": "code",
      "source": [
        "x1=data1.data\n",
        "y1=data1.target\n",
        "I = data1.iloc[:, :-1].values\n",
        "label = data1.iloc[:, -1].values\n",
        "x_train, x_test, y_train, y_test = train_test_split(x1, y1,test_size=0.25)\n",
        "model = AdaBoostClassifier(random_state=98)\n",
        "model.fit(x_train, y_train)\n",
        "model.score(x_test,y_test)"
      ],
      "metadata": {
        "id": "TwO071hqaBNO"
      },
      "execution_count": null,
      "outputs": []
    },
    {
      "cell_type": "code",
      "source": [
        "from sklearn import preprocessing\n",
        "from sklearn.naive_bayes import GaussianNB, MultinomialNB,CategoricalNB\n",
        "from sklearn.model_selection import train_test_split\n",
        "from sklearn.linear_model import LogisticRegression\n",
        "from sklearn.metrics import accuracy_score   \n",
        "from sklearn.datasets import load_diabetes\n",
        "from sklearn.linear_model import LinearRegression\n",
        "from sklearn.metrics import mean_squared_error\n",
        "\n",
        "def get_data_set():\n",
        "  import pandas as pd\n",
        "  dataset=load_diabetes()\n",
        "  x=dataset.data\n",
        "  y=dataset.target\n",
        "  return x,y\n",
        "  pass\n",
        "\n",
        "def get_individual_classifiers(x_train,y_train,no_of_models=10):\n",
        "  individual_classifiers=[]\n",
        "  for _ in range(no_of_models):\n",
        "    new_model=LinearRegression()\n",
        "    new_model.fit(x_train,y_train)\n",
        "    individual_classifiers.append(new_model)\n",
        "    pass\n",
        "  return individual_classifiers\n",
        "  pass\n",
        "\n",
        "def individual_predict(individual_classifiers,input):\n",
        "  output=[]\n",
        "  for classifier in individual_classifiers:\n",
        "    curr_output=list(classifier.predict(input))\n",
        "    output=output+curr_output\n",
        "    pass\n",
        "  return output\n",
        "  pass\n",
        "\n",
        "def get_meta_classifier(x,y):\n",
        "  individual_classifiers=get_individual_classifiers(x_train,y_train)\n",
        "  output=individual_predict(individual_classifiers,x)\n",
        "  meta_x=output\n",
        "  meta_y=[]\n",
        "  div=len(meta_x)//len(x)\n",
        "  for _ in range(div):\n",
        "    meta_y=meta_y+list(y)\n",
        "  meta_classifier=LinearRegression().fit(x, y)\n",
        "  return meta_classifier\n",
        "  pass\n",
        "\n",
        "def get_accuracy(y_pred,y_test):\n",
        "  return accuracy_score(y_pred,y_test)\n",
        "  pass\n",
        "\n",
        "def get_mse(y_pred,y_test):\n",
        "  return mean_squared_error(y_pred,y_test)\n",
        "  pass\n",
        "\n",
        "x,y=get_data_set()\n",
        "# print(x,y)\n",
        "x_train,x_test,y_train,y_test=train_test_split(x,y,random_state=137,test_size=0.50)\n",
        "meta_classifier=get_meta_classifier(x_train,y_train)\n",
        "y_pred=meta_classifier.predict(x_test)\n",
        "print(\"mse loss : \",get_mse(y_pred,y_test))\n",
        "# x_1,y_1=individual_predict(individual_classifiers,[[1,2]])\n",
        "# print(x_1,y_1)"
      ],
      "metadata": {
        "colab": {
          "base_uri": "https://localhost:8080/"
        },
        "id": "baPKFHWoZ3ul",
        "outputId": "3624c76c-06a2-4c94-fb7e-00153113de6f"
      },
      "execution_count": 13,
      "outputs": [
        {
          "output_type": "stream",
          "name": "stdout",
          "text": [
            "mse loss :  2679.3209640213354\n"
          ]
        }
      ]
    }
  ]
}