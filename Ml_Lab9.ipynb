{
  "nbformat": 4,
  "nbformat_minor": 0,
  "metadata": {
    "colab": {
      "provenance": [],
      "include_colab_link": true
    },
    "kernelspec": {
      "name": "python3",
      "display_name": "Python 3"
    },
    "language_info": {
      "name": "python"
    }
  },
  "cells": [
    {
      "cell_type": "markdown",
      "metadata": {
        "id": "view-in-github",
        "colab_type": "text"
      },
      "source": [
        "<a href=\"https://colab.research.google.com/github/akashpambhar21/CE005_ML_AkashPambhar/blob/main/Ml_Lab9.ipynb\" target=\"_parent\"><img src=\"https://colab.research.google.com/assets/colab-badge.svg\" alt=\"Open In Colab\"/></a>"
      ]
    },
    {
      "cell_type": "code",
      "source": [
        "import pandas as pd\n",
        "import numpy as np\n",
        "\n",
        "DATASET_NUMBER = 1\n",
        "\n",
        "if DATASET_NUMBER == 1:\n",
        "  dataset = pd.read_csv('Dataset1.csv')\n",
        "\n",
        "elif DATASET_NUMBER == 2:\n",
        "  dataset = pd.read_csv('Dataset2.csv')\n",
        "\n",
        "#seprate input and outout\n",
        "inputColumn = dataset.iloc[:,:-1].values\n",
        "outputColumn = dataset.iloc[:,-1].values\n",
        "\n",
        "no_of_features = len(np.unique(outputColumn))\n",
        "no_of_samples = len(inputColumn)\n",
        "\n",
        "print(no_of_samples)\n",
        "print(no_of_features)"
      ],
      "metadata": {
        "colab": {
          "base_uri": "https://localhost:8080/"
        },
        "id": "irzJZ5g9dWtp",
        "outputId": "c257fddb-b8c9-4272-dd45-ec9ef226a287"
      },
      "execution_count": null,
      "outputs": [
        {
          "output_type": "stream",
          "name": "stdout",
          "text": [
            "14\n",
            "2\n"
          ]
        }
      ]
    },
    {
      "cell_type": "code",
      "source": [
        "from sklearn.datasets import make_blobs\n",
        "X, _ = make_blobs(n_samples=no_of_samples, centers=3, n_features=no_of_features,\n",
        "cluster_std=0.2, random_state=0)"
      ],
      "metadata": {
        "id": "hqOprf8hhFby"
      },
      "execution_count": null,
      "outputs": []
    },
    {
      "cell_type": "code",
      "source": [
        "import matplotlib.pyplot as plt\n",
        "%matplotlib inline\n",
        "plt.scatter(X[:, 0], X[:, -1])\n",
        "plt.xlabel('X Coordinates')\n",
        "plt.ylabel('Y Coordinates')\n",
        "plt.show()"
      ],
      "metadata": {
        "colab": {
          "base_uri": "https://localhost:8080/",
          "height": 279
        },
        "id": "1SgEvvZvh0ld",
        "outputId": "fb379b07-cd4e-4c30-ab3e-069dfc42139b"
      },
      "execution_count": null,
      "outputs": [
        {
          "output_type": "display_data",
          "data": {
            "text/plain": [
              "<Figure size 432x288 with 1 Axes>"
            ],
            "image/png": "[encoded data removed]"
          },
          "metadata": {
            "needs_background": "light"
          }
        }
      ]
    },
    {
      "cell_type": "code",
      "source": [
        "from sklearn.cluster import KMeans\n",
        "\n",
        "kmeans = KMeans(n_clusters=3, random_state=0).fit(X)"
      ],
      "metadata": {
        "id": "x5nOTs6xkH1v"
      },
      "execution_count": null,
      "outputs": []
    },
    {
      "cell_type": "code",
      "source": [
        "kmeans.cluster_centers_"
      ],
      "metadata": {
        "colab": {
          "base_uri": "https://localhost:8080/"
        },
        "id": "iCNx99LwkRuC",
        "outputId": "11671c0f-79d3-4ecc-b867-9ca84338d52b"
      },
      "execution_count": null,
      "outputs": [
        {
          "output_type": "execute_result",
          "data": {
            "text/plain": [
              "array([[ 2.15080143,  0.79357702],\n",
              "       [-1.48461904,  2.90185931],\n",
              "       [ 1.06410264,  4.39054189]])"
            ]
          },
          "metadata": {},
          "execution_count": 16
        }
      ]
    },
    {
      "cell_type": "code",
      "source": [
        "kmeans.labels_"
      ],
      "metadata": {
        "colab": {
          "base_uri": "https://localhost:8080/"
        },
        "id": "93fjp1RkkqE2",
        "outputId": "7be72afa-12de-44e0-e767-198cd7953f2b"
      },
      "execution_count": null,
      "outputs": [
        {
          "output_type": "execute_result",
          "data": {
            "text/plain": [
              "array([2, 1, 0, 2, 0, 2, 1, 1, 0, 2, 1, 0, 0, 2], dtype=int32)"
            ]
          },
          "metadata": {},
          "execution_count": 17
        }
      ]
    },
    {
      "cell_type": "code",
      "source": [
        "plt.scatter(X[:, 0], X[:, -1])\n",
        "plt.scatter(kmeans.cluster_centers_[:, 0], kmeans.cluster_centers_[:, 1],c='red', marker='x')\n",
        "plt.title('Data points and cluster centroids')\n",
        "plt.show()"
      ],
      "metadata": {
        "colab": {
          "base_uri": "https://localhost:8080/",
          "height": 280
        },
        "id": "MUwpN0U-ky_-",
        "outputId": "338f7369-5d98-4c16-a4a4-3f39d3b7f415"
      },
      "execution_count": null,
      "outputs": [
        {
          "output_type": "display_data",
          "data": {
            "text/plain": [
              "<Figure size 432x288 with 1 Axes>"
            ],
            "image/png": "[encoded data removed]"
          },
          "metadata": {
            "needs_background": "light"
          }
        }
      ]
    },
    {
      "cell_type": "code",
      "source": [
        "from sklearn.metrics import silhouette_score\n",
        "print(silhouette_score(X, kmeans.labels_))"
      ],
      "metadata": {
        "colab": {
          "base_uri": "https://localhost:8080/"
        },
        "id": "pXOibR69k8Y2",
        "outputId": "02f0c2f3-32e7-41b0-852b-89191074b668"
      },
      "execution_count": null,
      "outputs": [
        {
          "output_type": "stream",
          "name": "stdout",
          "text": [
            "0.8868563998712445\n"
          ]
        }
      ]
    },
    {
      "cell_type": "code",
      "source": [
        "# Import the KElbowVisualizer method\n",
        "from yellowbrick.cluster import KElbowVisualizer\n",
        "# Instantiate a scikit-learn K-Means model\n",
        "model = KMeans(random_state=0)\n",
        "# Instantiate the KElbowVisualizer with the number of clusters and the metric\n",
        "visualizer = KElbowVisualizer(model, k=(2,6), metric='silhouette',timings=False)\n",
        "# Fit the data and visualize\n",
        "visualizer.fit(X)\n",
        "visualizer.poof()"
      ],
      "metadata": {
        "colab": {
          "base_uri": "https://localhost:8080/",
          "height": 311
        },
        "id": "1nP1atqylNEg",
        "outputId": "1177dea5-d1de-446c-aff6-ff69c2b156a6"
      },
      "execution_count": null,
      "outputs": [
        {
          "output_type": "display_data",
          "data": {
            "text/plain": [
              "<Figure size 432x288 with 1 Axes>"
            ],
            "image/png": "[encoded data removed]"
          },
          "metadata": {
            "needs_background": "light"
          }
        },
        {
          "output_type": "execute_result",
          "data": {
            "text/plain": [
              "<matplotlib.axes._subplots.AxesSubplot at 0x7f1308de5ca0>"
            ]
          },
          "metadata": {},
          "execution_count": 20
        }
      ]
    },
    {
      "cell_type": "code",
      "source": [
        "import matplotlib.pyplot as plt\n",
        "import numpy as np\n",
        "from sklearn.cluster import KMeans\n",
        "#x = np.array([5,7,8,7,2,17,2,9,4,11,12,9,6])\n",
        "X1 = np.array([[2,2],[3,4],[6,7],[5,5],[3,3],[12,13]])\n",
        "#X1.shape()\n",
        "X2 = np.array([2,3,4])\n",
        "plt.scatter(X1[:,0], X1[:,1])\n",
        "centroid = np.array([[2,2],[3,4],[6,7]])\n",
        "kmeans = KMeans(n_clusters=3, init=centroid).fit(X1)\n",
        "kmeans.cluster_centers_\n",
        "kmeans.labels_\n",
        "#print(\"Number of iterations \" , kmeans.n_iter_)\n",
        "kmeans.predict([[8,8]])"
      ],
      "metadata": {
        "colab": {
          "base_uri": "https://localhost:8080/",
          "height": 337
        },
        "id": "54Q2-loGwdUH",
        "outputId": "ec7008f3-351c-44aa-f033-7006f97c9241"
      },
      "execution_count": null,
      "outputs": [
        {
          "output_type": "stream",
          "name": "stderr",
          "text": [
            "/usr/local/lib/python3.8/dist-packages/sklearn/cluster/_kmeans.py:1146: RuntimeWarning: Explicit initial center position passed: performing only one init in KMeans instead of n_init=10.\n",
            "  self._check_params(X)\n"
          ]
        },
        {
          "output_type": "execute_result",
          "data": {
            "text/plain": [
              "array([1], dtype=int32)"
            ]
          },
          "metadata": {},
          "execution_count": 21
        },
        {
          "output_type": "display_data",
          "data": {
            "text/plain": [
              "<Figure size 432x288 with 1 Axes>"
            ],
            "image/png": "[encoded data removed]"
          },
          "metadata": {
            "needs_background": "light"
          }
        }
      ]
    },
    {
      "cell_type": "code",
      "source": [
        "import numpy as np # linear algebra\n",
        "import pandas as pd # data processing, CSV file I/O (e.g. pd.read_csv)\n",
        "from sklearn.cluster import KMeans\n",
        "from sklearn.datasets import load_digits\n",
        "#digits dataset from scikit learn consists of 8x8 pixel images of digits\n",
        "#Data plotting and visualization libraries\n",
        "import matplotlib.pyplot as plt\n",
        "import seaborn as sns\n",
        "from scipy.stats import mode\n",
        "from sklearn.metrics import accuracy_score, confusion_matrix"
      ],
      "metadata": {
        "id": "PYeHaL3BwhmN"
      },
      "execution_count": null,
      "outputs": []
    },
    {
      "cell_type": "code",
      "source": [
        "digits = load_digits() #load the dataset in digits"
      ],
      "metadata": {
        "id": "BYQzXdsFwnMX"
      },
      "execution_count": null,
      "outputs": []
    },
    {
      "cell_type": "code",
      "source": [
        "digits.keys() #Dataset loaded is a dictionary\n",
        "# data : flattened arrays/tensors used for clustering\n",
        "# target : label associated with flattened array\n",
        "#print(digits.target)"
      ],
      "metadata": {
        "colab": {
          "base_uri": "https://localhost:8080/"
        },
        "id": "JqMbLBcowsur",
        "outputId": "28379bf2-4a25-4a5e-afbf-08dfb0d2422f"
      },
      "execution_count": null,
      "outputs": [
        {
          "output_type": "execute_result",
          "data": {
            "text/plain": [
              "dict_keys(['data', 'target', 'frame', 'feature_names', 'target_names', 'images', 'DESCR'])"
            ]
          },
          "metadata": {},
          "execution_count": 24
        }
      ]
    },
    {
      "cell_type": "code",
      "source": [
        "digits.data[0:3] #flattened data for 3 images of the dataset"
      ],
      "metadata": {
        "id": "-p12ncOKwzGb",
        "outputId": "f296c1ef-9973-43bf-ef00-edcf0f0cdc76",
        "colab": {
          "base_uri": "https://localhost:8080/"
        }
      },
      "execution_count": null,
      "outputs": [
        {
          "output_type": "execute_result",
          "data": {
            "text/plain": [
              "array([[ 0.,  0.,  5., 13.,  9.,  1.,  0.,  0.,  0.,  0., 13., 15., 10.,\n",
              "        15.,  5.,  0.,  0.,  3., 15.,  2.,  0., 11.,  8.,  0.,  0.,  4.,\n",
              "        12.,  0.,  0.,  8.,  8.,  0.,  0.,  5.,  8.,  0.,  0.,  9.,  8.,\n",
              "         0.,  0.,  4., 11.,  0.,  1., 12.,  7.,  0.,  0.,  2., 14.,  5.,\n",
              "        10., 12.,  0.,  0.,  0.,  0.,  6., 13., 10.,  0.,  0.,  0.],\n",
              "       [ 0.,  0.,  0., 12., 13.,  5.,  0.,  0.,  0.,  0.,  0., 11., 16.,\n",
              "         9.,  0.,  0.,  0.,  0.,  3., 15., 16.,  6.,  0.,  0.,  0.,  7.,\n",
              "        15., 16., 16.,  2.,  0.,  0.,  0.,  0.,  1., 16., 16.,  3.,  0.,\n",
              "         0.,  0.,  0.,  1., 16., 16.,  6.,  0.,  0.,  0.,  0.,  1., 16.,\n",
              "        16.,  6.,  0.,  0.,  0.,  0.,  0., 11., 16., 10.,  0.,  0.],\n",
              "       [ 0.,  0.,  0.,  4., 15., 12.,  0.,  0.,  0.,  0.,  3., 16., 15.,\n",
              "        14.,  0.,  0.,  0.,  0.,  8., 13.,  8., 16.,  0.,  0.,  0.,  0.,\n",
              "         1.,  6., 15., 11.,  0.,  0.,  0.,  1.,  8., 13., 15.,  1.,  0.,\n",
              "         0.,  0.,  9., 16., 16.,  5.,  0.,  0.,  0.,  0.,  3., 13., 16.,\n",
              "        16., 11.,  5.,  0.,  0.,  0.,  0.,  3., 11., 16.,  9.,  0.]])"
            ]
          },
          "metadata": {},
          "execution_count": 25
        }
      ]
    }
  ]
}